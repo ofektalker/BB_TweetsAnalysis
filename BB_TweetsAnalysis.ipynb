{
 "cells": [
  {
   "cell_type": "code",
   "execution_count": 1,
   "metadata": {},
   "outputs": [],
   "source": [
    "# Importing the necessary libraries\n",
    "\n",
    "import pandas as pd\n",
    "import numpy as np\n",
    "from nltk.corpus import stopwords\n",
    "# from nltk import ngrams\n",
    "from nltk import word_tokenize\n",
    "import string\n",
    "from sklearn.feature_extraction.text import TfidfVectorizer\n",
    "from sklearn import svm\n",
    "from sklearn.model_selection import train_test_split\n",
    "from sklearn.naive_bayes import MultinomialNB\n",
    "from nltk.stem import PorterStemmer \n",
    "from sklearn import metrics\n",
    "import matplotlib.pyplot as plt\n"
   ]
  },
  {
   "cell_type": "code",
   "execution_count": 2,
   "metadata": {},
   "outputs": [
    {
     "name": "stdout",
     "output_type": "stream",
     "text": [
      "(7516, 3)\n"
     ]
    }
   ],
   "source": [
    "# Reading the data set\n",
    "df = pd.read_csv('ISEAR.csv',header=None)\n",
    "print (df.shape)"
   ]
  },
  {
   "cell_type": "markdown",
   "metadata": {},
   "source": [
    "# Emotion Detection From Tweets"
   ]
  },
  {
   "cell_type": "code",
   "execution_count": 3,
   "metadata": {},
   "outputs": [
    {
     "name": "stdout",
     "output_type": "stream",
     "text": [
      "(4329, 3)\n"
     ]
    }
   ],
   "source": [
    "#Remove 3 Classes:\n",
    "df2 = df[df.iloc[ : , 0 ] != 'disgust']\n",
    "df2 = df2[df2.iloc[ : , 0 ] != 'guilt']\n",
    "df2 = df2[df2.iloc[ : , 0 ] != 'shame']\n",
    "print (df2.shape)\n"
   ]
  },
  {
   "cell_type": "code",
   "execution_count": 4,
   "metadata": {},
   "outputs": [
    {
     "name": "stdout",
     "output_type": "stream",
     "text": [
      "(7516, 2)\n",
      "(4329, 2)\n"
     ]
    }
   ],
   "source": [
    "# Removing the null values from the data set and specifying the column names\n",
    "col = [0,1]\n",
    "new_df = df[col]\n",
    "new_df = new_df[pd.notnull(df[1])]\n",
    "new_df.columns = ['Emotion','Text']\n",
    "print(new_df.shape)\n",
    "new_df = new_df[new_df.Emotion != 'disgust']\n",
    "new_df = new_df[new_df.Emotion != 'guilt']\n",
    "\n",
    "new_df = new_df[new_df.Emotion != 'shame']\n",
    "\n",
    "print(new_df.shape)\n",
    "\n",
    "new_df.head()\n",
    "new_df.to_csv('temp.csv')"
   ]
  },
  {
   "cell_type": "code",
   "execution_count": 5,
   "metadata": {},
   "outputs": [
    {
     "data": {
      "image/png": "[encoded data removed]",
      "text/plain": [
       "<Figure size 576x432 with 1 Axes>"
      ]
     },
     "metadata": {
      "needs_background": "light"
     },
     "output_type": "display_data"
    },
    {
     "name": "stdout",
     "output_type": "stream",
     "text": [
      "Emotion\n",
      "anger      1079\n",
      "fear       1076\n",
      "joy        1092\n",
      "sadness    1082\n",
      "dtype: int64\n"
     ]
    }
   ],
   "source": [
    "#To get the plot of the emotion distribution in data\n",
    "fig = plt.figure(figsize=(8,6))\n",
    "new_df.groupby('Emotion').Text.count().plot.bar(ylim=0)\n",
    "plt.show()\n",
    "# new_df.Emotion.value_counts()\n",
    "print(new_df.groupby('Emotion').size())"
   ]
  },
  {
   "cell_type": "code",
   "execution_count": 6,
   "metadata": {},
   "outputs": [],
   "source": [
    "# Preprocessing the data set\n",
    "# Performing Tokenization,removing new lines,punctuations\n",
    "def getTokenizedList(input_df):\n",
    "    tokenizedList=[]\n",
    "    for i in range(0,len(input_df)):\n",
    "        curText=input_df[1].iloc[i]\n",
    "        curText=curText.replace('\\n','')\n",
    "        curTokenized=word_tokenize(curText)\n",
    "        tokenizedList.append(curTokenized)\n",
    "    tokenziedListWithoutPunct=[] \n",
    "    punctList=list(string.punctuation)\n",
    "    for i in range(0,len(tokenizedList)):\n",
    "        curList=tokenizedList[i]\n",
    "        newList=[] #list without stopwords\n",
    "        for word in curList:\n",
    "            if (word.lower() not in punctList):\n",
    "                newList.append(word.lower())\n",
    "        tokenziedListWithoutPunct.append(newList)\n",
    "\n",
    "    #Stemming\n",
    "    mystemmer=PorterStemmer()\n",
    "    tokenziedStemmed=[]\n",
    "    for i in range(0,len(tokenziedListWithoutPunct)):\n",
    "        curList=tokenziedListWithoutPunct[i]\n",
    "        newList=[] \n",
    "        for word in curList:\n",
    "            newList.append(mystemmer.stem(word))\n",
    "        tokenziedStemmed.append(newList)\n",
    "    return tokenziedStemmed"
   ]
  },
  {
   "cell_type": "code",
   "execution_count": 7,
   "metadata": {},
   "outputs": [],
   "source": [
    "# Preprocessing the sentence which we input to predict the emotion\n",
    "def transformSentence(sent):\n",
    "    s = []\n",
    "    sent=sent.replace('\\n','')\n",
    "    sentTokenized=word_tokenize(sent)\n",
    "    s.append(sentTokenized)\n",
    "    sWithoutPunct = []\n",
    "    punctList = list(string.punctuation)\n",
    "    curSentList = s[0]\n",
    "    newSentList = []\n",
    "    for word in curSentList:\n",
    "        if (word.lower() not in punctList):\n",
    "            newSentList.append(word.lower())\n",
    "    sWithoutPunct.append(newSentList)\n",
    "    mystemmer = PorterStemmer()\n",
    "    tokenziedStemmed = []\n",
    "    for i in range(0,len(sWithoutPunct)):\n",
    "        curList=sWithoutPunct[i]\n",
    "        newList=[]\n",
    "        for word in curList:\n",
    "            newList.append(mystemmer.stem(word))\n",
    "        tokenziedStemmed.append(newList)\n",
    "    return tokenziedStemmed"
   ]
  },
  {
   "cell_type": "code",
   "execution_count": 8,
   "metadata": {},
   "outputs": [],
   "source": [
    "new_df['Text']=getTokenizedList(df2)"
   ]
  },
  {
   "cell_type": "code",
   "execution_count": 9,
   "metadata": {},
   "outputs": [],
   "source": [
    "#splitting the data set into Training and Testing sets\n",
    "X_train, X_test, Y_train, Y_test=train_test_split(new_df['Text'],new_df['Emotion'], test_size=.2,random_state=1)"
   ]
  },
  {
   "cell_type": "code",
   "execution_count": 10,
   "metadata": {},
   "outputs": [],
   "source": [
    "#Function to pass the list to the Tfidf vectorizer\n",
    "def returnPhrase(inputList):\n",
    "    return inputList"
   ]
  },
  {
   "cell_type": "markdown",
   "metadata": {},
   "source": [
    "## Naive Bayes"
   ]
  },
  {
   "cell_type": "code",
   "execution_count": 11,
   "metadata": {},
   "outputs": [],
   "source": [
    "#Extracting features for Naive Bayes\n",
    "myVectorizer=TfidfVectorizer(analyzer='word',tokenizer=returnPhrase,preprocessor=returnPhrase,token_pattern=None,ngram_range=(1,3))\n",
    "myVectorizer.fit(X_train)\n",
    "transformedTrain=myVectorizer.transform(X_train).toarray()\n",
    "transformedTest=myVectorizer.transform(X_test).toarray()"
   ]
  },
  {
   "cell_type": "code",
   "execution_count": 12,
   "metadata": {},
   "outputs": [
    {
     "name": "stdout",
     "output_type": "stream",
     "text": [
      "Naive Bayes Model Accuracy:  0.7517321016166282\n"
     ]
    }
   ],
   "source": [
    "# Training MultinomialNB and evaluating the performance\n",
    "curAlpha=0.33 #smoothing factor in NB\n",
    "NBClassifier=MultinomialNB(alpha=curAlpha)\n",
    "NBClassifier.fit(transformedTrain,Y_train)\n",
    "myPredTest=NBClassifier.predict(transformedTest)\n",
    "NbScore = NBClassifier.score(transformedTest,Y_test)\n",
    "print('Naive Bayes Model Accuracy: ',NbScore)"
   ]
  },
  {
   "cell_type": "code",
   "execution_count": 13,
   "metadata": {},
   "outputs": [
    {
     "name": "stdout",
     "output_type": "stream",
     "text": [
      "Metrics Classification Report : Naive Bayes\n",
      "              precision    recall  f1-score   support\n",
      "\n",
      "       anger       0.71      0.74      0.73       208\n",
      "        fear       0.83      0.78      0.80       232\n",
      "         joy       0.83      0.78      0.81       221\n",
      "     sadness       0.64      0.71      0.67       205\n",
      "\n",
      "    accuracy                           0.75       866\n",
      "   macro avg       0.75      0.75      0.75       866\n",
      "weighted avg       0.76      0.75      0.75       866\n",
      "\n",
      "{'anger': {'precision': 0.7149532710280374, 'recall': 0.7355769230769231, 'f1-score': 0.7251184834123223, 'support': 208}, 'fear': {'precision': 0.8256880733944955, 'recall': 0.7758620689655172, 'f1-score': 0.8, 'support': 232}, 'joy': {'precision': 0.8317307692307693, 'recall': 0.7828054298642534, 'f1-score': 0.8065268065268065, 'support': 221}, 'sadness': {'precision': 0.6415929203539823, 'recall': 0.7073170731707317, 'f1-score': 0.6728538283062645, 'support': 205}, 'accuracy': 0.7517321016166282, 'macro avg': {'precision': 0.7534912585018212, 'recall': 0.7503903737693562, 'f1-score': 0.7511247795613483, 'support': 866}, 'weighted avg': {'precision': 0.7570542287227727, 'recall': 0.7517321016166282, 'f1-score': 0.7535821057678656, 'support': 866}}\n",
      "              precision    recall  f1-score   support\n",
      "\n",
      "       anger       0.71      0.74      0.73       208\n",
      "        fear       0.83      0.78      0.80       232\n",
      "         joy       0.83      0.78      0.81       221\n",
      "     sadness       0.64      0.71      0.67       205\n",
      "\n",
      "    accuracy                           0.75       866\n",
      "   macro avg       0.75      0.75      0.75       866\n",
      "weighted avg       0.76      0.75      0.75       866\n",
      "\n"
     ]
    }
   ],
   "source": [
    "# Finding Precision,recall,and f1-score for Naive Bayes\n",
    "\n",
    "print('Metrics Classification Report : Naive Bayes')\n",
    "print(metrics.classification_report(Y_test, myPredTest))\n",
    "report = metrics.classification_report(Y_test, myPredTest, output_dict=True)\n",
    "df = pd.DataFrame(report).transpose()\n",
    "print (report)\n",
    "df.to_csv(\"NBClassificationReport.csv\")\n",
    "print(metrics.classification_report(Y_test, myPredTest, digits=2))"
   ]
  },
  {
   "cell_type": "markdown",
   "metadata": {},
   "source": [
    "## SVM"
   ]
  },
  {
   "cell_type": "code",
   "execution_count": 14,
   "metadata": {},
   "outputs": [],
   "source": [
    "#Extracting the features for SVM\n",
    "myVectorizer=TfidfVectorizer(analyzer='word',tokenizer=returnPhrase,preprocessor=returnPhrase,token_pattern=None,ngram_range=(1,3))\n",
    "myVectorizer.fit(X_train)\n",
    "transformedTrain=myVectorizer.transform(X_train).toarray()\n",
    "transformedTest=myVectorizer.transform(X_test).toarray()"
   ]
  },
  {
   "cell_type": "code",
   "execution_count": 15,
   "metadata": {},
   "outputs": [
    {
     "name": "stdout",
     "output_type": "stream",
     "text": [
      "SVM Model Accuracy:  0.7725173210161663\n"
     ]
    }
   ],
   "source": [
    "# Training the SVM Model and Evaluating the performance\n",
    "curC=2   #cost factor in SVM\n",
    "SVMClassifier=svm.LinearSVC(C=curC)\n",
    "SVMClassifier.fit(transformedTrain,Y_train)\n",
    "myPredTest=SVMClassifier.predict(transformedTest)\n",
    "SVMScore = SVMClassifier.score(transformedTest,Y_test)\n",
    "print('SVM Model Accuracy: ',SVMScore)"
   ]
  },
  {
   "cell_type": "code",
   "execution_count": 16,
   "metadata": {},
   "outputs": [
    {
     "name": "stdout",
     "output_type": "stream",
     "text": [
      "Metrics Classification Report : SVM\n",
      "{'anger': {'precision': 0.7242990654205608, 'recall': 0.7451923076923077, 'f1-score': 0.7345971563981043, 'support': 208}, 'fear': {'precision': 0.8088888888888889, 'recall': 0.7844827586206896, 'f1-score': 0.7964989059080962, 'support': 232}, 'joy': {'precision': 0.8318181818181818, 'recall': 0.8280542986425339, 'f1-score': 0.8299319727891156, 'support': 221}, 'sadness': {'precision': 0.7198067632850241, 'recall': 0.7268292682926829, 'f1-score': 0.7233009708737865, 'support': 205}, 'accuracy': 0.7725173210161663, 'macro avg': {'precision': 0.7712032248531638, 'recall': 0.7711396583120536, 'f1-score': 0.7710822514922757, 'support': 866}, 'weighted avg': {'precision': 0.7733356033313475, 'recall': 0.7725173210161663, 'f1-score': 0.7728355885877654, 'support': 866}}\n",
      "              precision    recall  f1-score   support\n",
      "\n",
      "       anger       0.72      0.75      0.73       208\n",
      "        fear       0.81      0.78      0.80       232\n",
      "         joy       0.83      0.83      0.83       221\n",
      "     sadness       0.72      0.73      0.72       205\n",
      "\n",
      "    accuracy                           0.77       866\n",
      "   macro avg       0.77      0.77      0.77       866\n",
      "weighted avg       0.77      0.77      0.77       866\n",
      "\n"
     ]
    }
   ],
   "source": [
    "#Finding the precision,recall and f1-score for each emotion - SVM\n",
    "print('Metrics Classification Report : SVM')\n",
    "report = metrics.classification_report(Y_test, myPredTest, output_dict=True)\n",
    "df = pd.DataFrame(report).transpose()\n",
    "print (report)\n",
    "df.to_csv(\"SvmClassificationReport.csv\")\n",
    "print(metrics.classification_report(Y_test, myPredTest, digits=2))"
   ]
  },
  {
   "cell_type": "code",
   "execution_count": 17,
   "metadata": {},
   "outputs": [],
   "source": [
    "#To predict the emotion of a sentence using Naive Bayes\n",
    "def predictSentNB(sent):\n",
    "    sentPred = NBClassifier.predict(myVectorizer.transform(transformSentence(sent)).toarray())\n",
    "    return sentPred\n",
    "#To predict the emotion of a sentence using SVM\n",
    "def predictSentSVM(sent):\n",
    "    sentPred = SVMClassifier.predict(myVectorizer.transform(transformSentence(sent)).toarray())\n",
    "    return sentPred\n",
    "#To test the models on your own sentecnce, please uncomment the following code:\n",
    "# #Input sentence \n",
    "# sent = \"I want to kill and destroy you\"\n",
    "# #Printing the predicted emotion\n",
    "# print(\"Navie bayes prediction\")\n",
    "# print(predictSentNB(sent))\n",
    "# print(\"SVM prediction\")\n",
    "# print(predictSentSVM(sent))"
   ]
  },
  {
   "cell_type": "markdown",
   "metadata": {},
   "source": [
    "## Confuision Matrix"
   ]
  },
  {
   "cell_type": "code",
   "execution_count": 18,
   "metadata": {},
   "outputs": [
    {
     "data": {
      "image/png": "[encoded data removed]",
      "text/plain": [
       "<Figure size 504x504 with 2 Axes>"
      ]
     },
     "metadata": {
      "needs_background": "light"
     },
     "output_type": "display_data"
    }
   ],
   "source": [
    "from sklearn.metrics import confusion_matrix\n",
    "import seaborn as sns\n",
    "labels = ['anger','fear','joy','sadness']\n",
    "cm = confusion_matrix(Y_test, myPredTest,labels)\n",
    "#print(cm)\n",
    "fig, ax = plt.subplots(figsize=(7,7))\n",
    "sns.heatmap(cm, annot=True,fmt='d',\n",
    "            xticklabels=labels, yticklabels=labels,cmap='Blues')\n",
    "plt.ylabel('Actual Emotions')\n",
    "plt.xlabel('Predicted Emotions')\n",
    "plt.show()"
   ]
  },
  {
   "cell_type": "markdown",
   "metadata": {},
   "source": [
    "# Predict Bibi Netanyahu Tweets Emotions"
   ]
  },
  {
   "cell_type": "markdown",
   "metadata": {},
   "source": [
    "## Divide by dates:"
   ]
  },
  {
   "cell_type": "code",
   "execution_count": 19,
   "metadata": {},
   "outputs": [
    {
     "name": "stdout",
     "output_type": "stream",
     "text": [
      "dfhe Dataset: (2300, 3)\n"
     ]
    }
   ],
   "source": [
    "dfEn = pd.read_csv('BBTweets.csv')\n",
    "enTweetsList = dfEn['tweet'].tolist()\n",
    "data = []\n",
    "for sent in enTweetsList:\n",
    "    pred = predictSentNB(sent)\n",
    "    data.append((sent,pred[0]))\n",
    "predDf = pd.DataFrame(data, columns = ['text','sentiment'])\n",
    "predDf['date'] = dfEn['date']\n",
    "predDf['date'] = pd.to_datetime(predDf['date'])\n",
    "predDf = predDf.set_index(predDf['date'])\n",
    "predDf = predDf.sort_index()\n",
    "print('dfhe Dataset:',predDf.shape)\n",
    "\n",
    "Seger1 = predDf['2020-01-27':'2020-04-19'] #  קמםיין בחירות שלוש +התפרצות קורונה בישראל + סגר ראשון\n",
    "exitSeger1  = predDf['2020-04-19':'2020-10-14'] #סגרים 1-2 + הסכם שלום\n",
    "exitSeger2  = predDf['2020-10-14':'2021-02-01'] # סגר שלישי + חיסונים\n",
    "electionsCampign  = predDf['2021-02-01':'2021-03-23'] \n",
    "\n",
    "\n",
    "Seger1 = Seger1.drop(['date'], axis=1)\n",
    "exitSeger1 = exitSeger1.drop(['date'], axis=1)\n",
    "exitSeger2 = exitSeger2.drop(['date'], axis=1)\n",
    "electionsCampign = electionsCampign.drop(['date'], axis=1)"
   ]
  },
  {
   "cell_type": "code",
   "execution_count": 50,
   "metadata": {},
   "outputs": [
    {
     "name": "stdout",
     "output_type": "stream",
     "text": [
      "Seger1 Dataset: (395, 2)\n",
      "<class 'matplotlib.axes._subplots.AxesSubplot'>\n",
      "AxesSubplot(0.125,0.125;0.775x0.755)\n"
     ]
    },
    {
     "data": {
      "text/plain": [
       "[Text(0, 0, 'anger'),\n",
       " Text(0, 0, 'fear'),\n",
       " Text(0, 0, 'joy'),\n",
       " Text(0, 0, 'sadness')]"
      ]
     },
     "execution_count": 50,
     "metadata": {},
     "output_type": "execute_result"
    },
    {
     "data": {
      "image/png": "[encoded data removed]",
      "text/plain": [
       "<Figure size 432x288 with 1 Axes>"
      ]
     },
     "metadata": {
      "needs_background": "light"
     },
     "output_type": "display_data"
    }
   ],
   "source": [
    "print('Seger1 Dataset:',Seger1.shape)\n",
    "import matplotlib.ticker as mtick\n",
    "\n",
    "tempax = pd.DataFrame(data, columns = ['text','sentiment'])\n",
    "ax = Seger1 .groupby('sentiment').count().apply(lambda g: g * 100 / g.sum()).plot(kind='bar',legend=False)\n",
    "ax.yaxis.set_major_formatter(mtick.PercentFormatter(decimals=0))\n",
    "ax.set_xticklabels(['anger','fear','joy','sadness'], rotation=0)"
   ]
  },
  {
   "cell_type": "code",
   "execution_count": 51,
   "metadata": {},
   "outputs": [
    {
     "name": "stdout",
     "output_type": "stream",
     "text": [
      "exitSeger1 Dataset: (761, 2)\n"
     ]
    },
    {
     "data": {
      "text/plain": [
       "[Text(0, 0, 'anger'),\n",
       " Text(0, 0, 'fear'),\n",
       " Text(0, 0, 'joy'),\n",
       " Text(0, 0, 'sadness')]"
      ]
     },
     "execution_count": 51,
     "metadata": {},
     "output_type": "execute_result"
    },
    {
     "data": {
      "image/png": "[encoded data removed]",
      "text/plain": [
       "<Figure size 432x288 with 1 Axes>"
      ]
     },
     "metadata": {
      "needs_background": "light"
     },
     "output_type": "display_data"
    }
   ],
   "source": [
    "print('exitSeger1 Dataset:',exitSeger1.shape)\n",
    "\n",
    "tempax = pd.DataFrame(data, columns = ['text','sentiment'])\n",
    "ax = exitSeger1.groupby('sentiment').count().apply(lambda g: g * 100 / g.sum()).plot(kind='bar',legend=False)\n",
    "ax.yaxis.set_major_formatter(mtick.PercentFormatter(decimals=0))\n",
    "ax.set_xticklabels(['anger','fear','joy','sadness'], rotation=0)"
   ]
  },
  {
   "cell_type": "code",
   "execution_count": 52,
   "metadata": {},
   "outputs": [
    {
     "name": "stdout",
     "output_type": "stream",
     "text": [
      "exitSeger2  Dataset: (568, 2)\n"
     ]
    },
    {
     "data": {
      "text/plain": [
       "[Text(0, 0, 'anger'),\n",
       " Text(0, 0, 'fear'),\n",
       " Text(0, 0, 'joy'),\n",
       " Text(0, 0, 'sadness')]"
      ]
     },
     "execution_count": 52,
     "metadata": {},
     "output_type": "execute_result"
    },
    {
     "data": {
      "image/png": "[encoded data removed]",
      "text/plain": [
       "<Figure size 432x288 with 1 Axes>"
      ]
     },
     "metadata": {
      "needs_background": "light"
     },
     "output_type": "display_data"
    }
   ],
   "source": [
    "print('exitSeger2  Dataset:',exitSeger2 .shape)\n",
    "\n",
    "tempax = pd.DataFrame(data, columns = ['text','sentiment'])\n",
    "ax = exitSeger2.groupby('sentiment').count().apply(lambda g: g * 100 / g.sum()).plot(kind='bar',legend=False)\n",
    "ax.yaxis.set_major_formatter(mtick.PercentFormatter(decimals=0))\n",
    "ax.set_xticklabels(['anger','fear','joy','sadness'], rotation=0)"
   ]
  },
  {
   "cell_type": "code",
   "execution_count": 53,
   "metadata": {},
   "outputs": [
    {
     "name": "stdout",
     "output_type": "stream",
     "text": [
      "electionsCampign Dataset: (391, 2)\n"
     ]
    },
    {
     "data": {
      "text/plain": [
       "[Text(0, 0, 'anger'),\n",
       " Text(0, 0, 'fear'),\n",
       " Text(0, 0, 'joy'),\n",
       " Text(0, 0, 'sadness')]"
      ]
     },
     "execution_count": 53,
     "metadata": {},
     "output_type": "execute_result"
    },
    {
     "data": {
      "image/png": "[encoded data removed]",
      "text/plain": [
       "<Figure size 432x288 with 1 Axes>"
      ]
     },
     "metadata": {
      "needs_background": "light"
     },
     "output_type": "display_data"
    }
   ],
   "source": [
    "print('electionsCampign Dataset:',electionsCampign.shape)\n",
    "\n",
    "tempax = pd.DataFrame(data, columns = ['text','sentiment'])\n",
    "ax = electionsCampign.groupby('sentiment').count().apply(lambda g: g * 100 / g.sum()).plot(kind='bar',legend=False)\n",
    "ax.yaxis.set_major_formatter(mtick.PercentFormatter(decimals=0))\n",
    "ax.set_xticklabels(['anger','fear','joy','sadness'], rotation=0)"
   ]
  },
  {
   "cell_type": "markdown",
   "metadata": {},
   "source": [
    "# Binyamin Netanyahu Tweets Analysis"
   ]
  },
  {
   "cell_type": "code",
   "execution_count": null,
   "metadata": {},
   "outputs": [],
   "source": [
    "\n",
    "from bidi.algorithm import get_display\n",
    "#imports:\n",
    "from google_trans_new import google_translator  # iw, he\n",
    "import csv\n",
    "from textblob import TextBlob\n",
    "from textblob import Word\n",
    "from PIL import Image\n",
    "from nltk.stem import PorterStemmer\n",
    "from wordcloud import WordCloud, ImageColorGenerator\n",
    "import matplotlib.pyplot as plt\n",
    "import nltk\n",
    "import preprocessor as p\n",
    "import sparknlp\n",
    "import pyspark\n",
    "# utilities\n",
    "import re\n",
    "import pickle\n",
    "#imports:\n",
    "from google_trans_new import google_translator  # iw, he\n",
    "import csv\n",
    "from textblob import TextBlob\n",
    "from textblob import Word\n",
    "from PIL import Image\n",
    "from nltk.stem import PorterStemmer\n",
    "from wordcloud import WordCloud, ImageColorGenerator\n",
    "import matplotlib.pyplot as plt\n",
    "import nltk\n",
    "import preprocessor as p\n",
    "\n",
    "# plotting\n",
    "import seaborn as sns\n",
    "from wordcloud import WordCloud\n",
    "import matplotlib.pyplot as plt\n",
    "\n",
    "# nltk\n",
    "from nltk.stem import WordNetLemmatizer\n",
    "\n",
    "# sklearn\n",
    "from sklearn.svm import LinearSVC\n",
    "from sklearn.naive_bayes import BernoulliNB\n",
    "from sklearn.linear_model import LogisticRegression\n",
    "\n",
    "from sklearn.model_selection import train_test_split\n",
    "from sklearn.feature_extraction.text import TfidfVectorizer\n",
    "from sklearn.metrics import confusion_matrix, classification_report"
   ]
  },
  {
   "cell_type": "code",
   "execution_count": null,
   "metadata": {},
   "outputs": [],
   "source": [
    "def TranslateTweets():\n",
    "    df = pd.read_csv(\"BibiHe2.csv\")\n",
    "    df.head()\n",
    "    translator = google_translator()\n",
    "    df[\"tweet\"] = df[\"tweet\"].map(lambda x: translator.translate(x, lang_src='he', lang_tgt='en'))\n",
    "    df.to_csv(\"englishBB.csv\")\n",
    "\n",
    "\n",
    "def lemmatizer(text):\n",
    "    text = [wn.lemmatize(word) for word in text]\n",
    "    return text\n",
    "\n",
    "def getStopWords():\n",
    "    print(stopwords)\n",
    "    return ['את','אתה','אנחנו','אתן','אתם','הם','הן','היא','הוא','שלי','שלו','שלך','שלה','ממשלת','בערי','אזרחי','שלנו','שלכם','שלכן','שלהם','שלהן','לי','peace','a','in','with','לו','לה','לנו'\n",
    "            ,'לכם','לכן','להם','להן','אותה','אותו','זה','זאת','אלה','אלו','תחת','מתחת','מעל','בין','עם','עד','נגר','על','אל','מול',\n",
    "            'של','אצל','כמו','אחר','אותו','בלי','לפני','אחרי','מאחורי','עלי','עליו','עליה','עליך','עלינו','עליכם','לעיכן','עליהם','עליהן',\n",
    "            'כל','כולם','כולן','כך', 'ככה','כזה','זה','זות','אותי','אותה','אותם','אותך','אותו','אותן','אותנו','ואת','את','אתכם','אתכן',\n",
    "            'איתי','איתו','איתך','איתה','איתם','איתן','איתנו','and','for','Iran', 'I','gtgt','to','have','that','is','israel','איתכם','איתכן','יהיה','תהיה','היתי','היתה','היה','להיות','עצמי','עצמו','עצמה','עצמם','עצמן','עצמנו','עצמהם',\n",
    "            'עצמהן','מי','מה','איפה','היכן','במקום שבו','אם','לאן','למקום שבו','מקום בו','איזה','מהיכן','איך','כיצד', 'באיזו מידה','מתי','בשעה ש','כאשר',\n",
    "            'כש','למרות','לפני','אחרי','מאיזו סיבה','הסיבה שבגללה','למה','מדוע','לאיזו תכלית','כי','יש','אין','אך','מנין','מאין','מאיפה',\n",
    "            'יכל','יכלה','יכלו','יכול','יכולה','יכולים','Israel','יכולות','יוכלו','יוכל','מסוגל','לא','רק','אולי','אין','לאו','אי','כלל',\n",
    "            'נגד','אם','עם','אל','אלה','אלו', 'אף','על','מעל','מתחת','מצד','בשביל','לבין','באמצע','בתוך','דרך','מבעד','באמצעות','למעלה',\n",
    "            'למטה','מחוץ','מן','לעבר','מכאן','כאן', 'הנה','הרי','פה','שם', 'אך','ברם','שוב','אבל','מבלי','בלי', 'מלבד','רק','בגלל',\n",
    "            'מכיוון','עד','אשר','ואילו','למרות','אס','כמו','כפי','אז','אחרי','כן','לכן','לפיכך','מאד','עז','מעט','מעטים','במידה',\n",
    "            'שוב','יותר','מדי', 'גם','-','כן','נו','אחר','אחרת','אחרים','אחרות','אשר','או','כדי','עוד','לכל','בכל','the','of','2','הזה','50']"
   ]
  },
  {
   "cell_type": "code",
   "execution_count": null,
   "metadata": {},
   "outputs": [],
   "source": []
  },
  {
   "cell_type": "code",
   "execution_count": null,
   "metadata": {},
   "outputs": [],
   "source": [
    "def WordCloudCreator(Words_Freq_Dict): #Create Wordcloud from dictionary.\n",
    "    from PIL import Image\n",
    "    newDict = {}\n",
    "    mask = np.array(Image.open('bb.JPG'))\n",
    "    \n",
    "    #Manual Lemamtizion:\n",
    "#     Words_Freq_Dict = MergeSameWords(Words_Freq_Dict)\n",
    "    \n",
    "    #Change words direction for handle hebrew issues:\n",
    "    for key in Words_Freq_Dict:\n",
    "        new_key = get_display(key)\n",
    "        newDict[new_key] = Words_Freq_Dict[key]\n",
    "    \n",
    "    wordcloud = WordCloud(background_color=\"white\",mask=mask, max_words=75, font_path='FreeSansBold.ttf',contour_width=3, contour_color='black').generate_from_frequencies(\n",
    "        frequencies=newDict)\n",
    "    plt.imshow(wordcloud, interpolation='bilinear')\n",
    "    plt.axis(\"off\")\n",
    "#     plt.title(\"BB Tweets\")\n",
    "    plt.show()\n",
    "\n",
    "\n",
    "def CreateWordDict(df): #Create Counting Words Dictiaonary from the data table (Words<->Freq)\n",
    "    Dict = {}\n",
    "    for index, row in df.iterrows():   \n",
    "        for word in row['tweet'].split():\n",
    "            if (word in Dict):\n",
    "                Dict[word] += 1\n",
    "            else:\n",
    "                Dict[word] = 1\n",
    "#     Dict = MergeSameWords(Dict)\n",
    "    return Dict\n",
    "def MergeSameWords(Dict):\n",
    "    newDict = {}\n",
    "    for key in Dict.keys():\n",
    "        print(newDict)\n",
    "        print (\"*****\")\n",
    "        flag = 0 \n",
    "        a = 'ב' + key\n",
    "        b = 'ו' + key\n",
    "        c = 'מ' + key\n",
    "        d = 'ה' + key\n",
    "        e = 'שה' + key\n",
    "        f = 'כשה' + key\n",
    "        if ((a and b and c and d and e and f) not in Dict.keys()):\n",
    "            newDict[key] = Dict[key]\n",
    "        else: \n",
    "            if (a in Dict.keys()):\n",
    "                newDict[key] += Dict[a]\n",
    "            if (b in Dict.keys()):\n",
    "                newDict[key] += Dict[b]\n",
    "            if (c in Dict.keys()):\n",
    "                newDict[key] += Dict[c]\n",
    "            if (d in Dict.keys()):\n",
    "                newDict[key] += Dict[d]\n",
    "            if (e in Dict.keys()):\n",
    "                newDict[key] += Dict[e]\n",
    "            if (f in Dict.keys()):\n",
    "                newDict[key] += Dict[f]\n",
    "    \n",
    "    return newDict\n",
    "\n"
   ]
  },
  {
   "cell_type": "code",
   "execution_count": null,
   "metadata": {},
   "outputs": [],
   "source": [
    "# dfHe = pd.read_csv('BibiHe2.csv')\n",
    "# dfHe = hebrewPreProccess(dfHe)\n",
    "# dfHe = dfHe[dfHe.tweet != '']\n",
    "# dfHe.to_csv('dfHe.csv')\n",
    "# dfHe.head()"
   ]
  },
  {
   "cell_type": "code",
   "execution_count": null,
   "metadata": {},
   "outputs": [],
   "source": [
    "# For get all BIBI NETANYAHU tweeets into csv file:\n",
    "    # Open terminal and write: twint -u netanyahu -o BibiHe2.csv --csv\n",
    "    \n",
    "\n",
    "dfHe = pd.read_csv('BibiHe2.csv')\n",
    "\n",
    "\n",
    "def WordCloudCreator(Words_Freq_Dict): #Create Wordcloud from dictionary.\n",
    "    from PIL import Image\n",
    "    newDict = {}\n",
    "    mask = np.array(Image.open('bb.jpg'))\n",
    "    \n",
    "    #Manual Lemamtizion:\n",
    "#     Words_Freq_Dict = MergeSameWords(Words_Freq_Dict)\n",
    "    \n",
    "    #Change words direction for handle hebrew issues:\n",
    "    for key in Words_Freq_Dict:\n",
    "        new_key = get_display(key)\n",
    "        newDict[new_key] = Words_Freq_Dict[key]\n",
    "    \n",
    "    wordcloud = WordCloud(background_color=\"white\",mask=mask, max_words=75, font_path='FreeSansBold.ttf',contour_width=3, contour_color='black').generate_from_frequencies(\n",
    "        frequencies=newDict)\n",
    "    plt.imshow(wordcloud, interpolation='bilinear')\n",
    "    plt.axis(\"off\")\n",
    "#     plt.title('Bibi Tweets')\n",
    "    plt.show()\n",
    "\n",
    "\n",
    "def CreateWordDict(df): #Create Counting Words Dictiaonary from the data table (Words<->Freq)\n",
    "    Dict = {}\n",
    "    for index, row in df.iterrows():   \n",
    "        for word in row['tweet'].split():\n",
    "            if (word in Dict):\n",
    "                Dict[word] += 1\n",
    "            else:\n",
    "                Dict[word] = 1\n",
    "    Dict = MergeSameWords(Dict)\n",
    "    return Dict\n",
    "def MergeSameWords(Dict):\n",
    "    \n",
    "\n",
    "    return Dict\n",
    "\n",
    "WordDictTemp = CreateWordDict(dfHe)\n",
    "def getStopWords():\n",
    "    print(stopwords)\n",
    "    return ['את','אתה','אנחנו','אתן','אתם','הם','הן','היא','הוא','שלי','שלו','שלך','שלה','ממשלת','בערי','אזרחי','שלנו','שלכם','שלכן','שלהם','ממשלה','שלהן','לי','peace','a','in','with','לו','לה','לנו'\n",
    "            ,'לכם','לכן','להם','להן','אותה','אותו','זה','זאת','אלה','אלו','תחת','מתחת','מעל','בין','עם','עד','נגר','על','ישראל','אל','מול',\n",
    "            'של','אצל','כמו','אחר','אותו','בלי','לפני','אחרי','מאחורי','עלי','עליו','עליה','עליך','עלינו','עליכם','לעיכן','עליהם','עליהן',\n",
    "            'כל','כולם','כולן','כך', 'ככה','כזה','זה','זות','אותי','אותה','אותם','אותך','אותו','אותן','מאוד', 'יום', 'שבת', 'אנו','אותנו','ואת','חי','את','אתכם','אתכן',\n",
    "            'איתי','איתו','איתך','איתה','איתם','איתן','איתנו','and','for','Iran', 'I','gtgt','to','have','that','is','israel','איתכם','איתכן','יהיה','תהיה','היתי','היתה','היה','להיות','עצמי','עצמו','עצמה','עצמם','עצמן','עצמנו','עצמהם',\n",
    "            'עצמהן','מי','מה','איפה','היכן','במקום שבו','אם','לאן','למקום שבו','מקום בו','איזה','מהיכן','איך','לחיים','כיצד', 'באיזו מידה','מתי','בשעה ש','כאשר',\n",
    "            'כש','למרות','לפני','אחרי','מאיזו סיבה','הסיבה שבגללה','למה','מדוע','לאיזו תכלית','כי','יש','שידור','אין','אך','מנין','מאין','מאיפה',\n",
    "            'יכל','יכלה','יכלו','יכול','יכולה','יכולים','Israel','יכולות','יוכלו','יוכל','מסוגל','לא','רק','אולי','אין','לאו','אי','כלל',\n",
    "            'נגד','אם','עם','אל','אלה','אלו', 'אף','על','מעל','מתחת','מצד','בשביל','לבין','באמצע','בתוך','דרך','מבעד','גנץgtgt','באמצעות','למעלה',\n",
    "            'למטה','מחוץ','מן','לעבר','מכאן','כאן', 'הנה','הרי','פה','שם', 'אך','ברם','שוב','אבל','מבלי','השר', 'זל', 'שמח','בלי','ליכוד', 'מלבד','רק','בגלל',\n",
    "            'מכיוון','עד','אשר','ואילו','למרות','אס','כמו','כפי','אז','אחרי','כן','לכן','לפיכך','מאד','עז','גדול','יקים','ולא','מעט','מעטים','במידה',\n",
    "            'שוב','יותר','מדי', 'גם','-','כן','נו','אחר','אחרת','אחרים','אחרות''וימנע','היום','וממשלה','ראש','לישראל','לבן','ואנחנו','תודה','המדינה','שלא','למען','משרד','ועל', 'חג', 'מדינת','טוב', 'גאה', 'שני', 'שימרו', 'תלוי', 'קורה', 'זו', 'לך','לגנץ','עושים','בבית','בכם','עצמכם',''\n",
    "            ,'אשר','או','כדי','עוד','לכל','בכל','the','of','2','הזה','50','לליכוד','הליכוד','וימנע']\n",
    "\n",
    "def hebrewPreProccess(dfHe):\n",
    "    #Delete Unneccery columns\n",
    "    dfHe = dfHe.drop(dfHe.columns[[0, 1, 2,5,6,7,8,9,11,12,13,14,15,16,17,18,19,20,21,22,23,24,25,26,27,28,29,30,31,32,33,34,35]], axis=1)\n",
    "    #Remove punctuation\n",
    "    dfHe['tweet'] = dfHe['tweet'].str.replace('[^\\w\\s]','')\n",
    "    #Remove English words\n",
    "    dfHe['tweet'] = dfHe['tweet'].apply(lambda x: \" \".join(x for x in x.split() if not re.match(r'[a-zA-Z]+', x, re.I)))\n",
    "    #Remove Numbers\n",
    "    dfHe['tweet'] = dfHe['tweet'].apply(lambda x: \" \".join(x for x in x.split() if not re.match(r'[^[a-zA-z]+[-+]?[0-9]+[a-zA-Z]+$', x, re.I)))\n",
    "    #Remove Hebrew StopWords:\n",
    "    stopwords = getStopWords()\n",
    "    dfHe['tweet'] = dfHe['tweet'].apply(lambda x: \" \".join(x for x in x.split() if x not in stopwords))\n",
    "    return (dfHe)\n",
    "\n",
    "dfHe = hebrewPreProccess(dfHe)\n",
    "dfHe = dfHe[dfHe.tweet != '']\n",
    "dfHe['date'] = pd.to_datetime(dfHe['date'])\n",
    "dfHe = dfHe.set_index(dfHe['date'])\n",
    "dfHe = dfHe.sort_index()\n",
    "\n",
    "Seger1 = dfHe['2020-01-27':'2020-04-19'] #  קמםיין בחירות שלוש +התפרצות קורונה בישראל + סגר ראשון\n",
    "exitSeger1  = dfHe['2020-04-19':'2020-10-14'] #סגרים 1-2 + הסכם שלום\n",
    "exitSeger2  = dfHe['2020-10-14':'2021-02-01'] # סגר שלישי + חיסונים\n",
    "electionsCampign  = dfHe['2021-02-01':'2021-03-23'] # קמפיין בחירות\n",
    "\n",
    "# def MergeConcreteWords(Dict):\n",
    "#     Dict['גנץ'] = Dict['בני']\n",
    "    \n",
    "WordDictTemp = CreateWordDict(Seger1)\n",
    "# WordDictTemp = MergeConcreteWords(WordDictTemp)\n",
    "\n",
    "print(sorted(WordDictTemp, key=WordDictTemp.get, reverse=True)[:75])\n",
    "    \n",
    "WordCloudCreator(WordDictTemp)\n",
    "# print('Seger1 Dataset:',Seger1.shape)\n",
    "# print('exitSeger1 Dataset:',exitSeger1.shape)\n",
    "# print('Seger2 Dataset:',Seger2.shape)\n",
    "# print('exitSeger2 Dataset:',exitSeger2.shape)\n",
    "# print('Seger3Vaccine Dataset:',Seger3Vaccine.shape)\n",
    "# print('electionsCampign Dataset:',electionsCampign.shape)\n"
   ]
  },
  {
   "cell_type": "code",
   "execution_count": null,
   "metadata": {},
   "outputs": [],
   "source": [
    "WordDictTemp = CreateWordDict(dfHe)\n",
    "# print(sorted(WordDictTemp, key=WordDictTemp.get, reverse=True))\n",
    "print(sorted(WordDictTemp, key=WordDictTemp.get, reverse=True)[:100])\n",
    "WordCloudCreator(WordDictTemp)"
   ]
  },
  {
   "cell_type": "code",
   "execution_count": null,
   "metadata": {},
   "outputs": [],
   "source": [
    "WordDictTemp = CreateWordDict(exitSeger1)\n",
    "# print(sorted(WordDictTemp, key=WordDictTemp.get, reverse=True))\n",
    "print(sorted(WordDictTemp, key=WordDictTemp.get, reverse=True)[:100])\n",
    "WordCloudCreator(WordDictTemp)"
   ]
  },
  {
   "cell_type": "code",
   "execution_count": null,
   "metadata": {},
   "outputs": [],
   "source": [
    "WordDictTemp = CreateWordDict(exitSeger2)\n",
    "# print(sorted(WordDictTemp, key=WordDictTemp.get, reverse=True))\n",
    "print(sorted(WordDictTemp, key=WordDictTemp.get, reverse=True)[:100])\n",
    "WordCloudCreator(WordDictTemp)"
   ]
  },
  {
   "cell_type": "code",
   "execution_count": null,
   "metadata": {},
   "outputs": [],
   "source": [
    "WordDictTemp = CreateWordDict(electionsCampign)\n",
    "# print(sorted(WordDictTemp, key=WordDictTemp.get, reverse=True))\n",
    "print(sorted(WordDictTemp, key=WordDictTemp.get, reverse=True)[:100])\n",
    "WordCloudCreator(WordDictTemp)\n"
   ]
  },
  {
   "cell_type": "code",
   "execution_count": null,
   "metadata": {},
   "outputs": [],
   "source": []
  },
  {
   "cell_type": "code",
   "execution_count": null,
   "metadata": {},
   "outputs": [],
   "source": []
  }
 ],
 "metadata": {
  "kernelspec": {
   "display_name": "Python 3",
   "language": "python",
   "name": "python3"
  },
  "language_info": {
   "codemirror_mode": {
    "name": "ipython",
    "version": 3
   },
   "file_extension": ".py",
   "mimetype": "text/x-python",
   "name": "python",
   "nbconvert_exporter": "python",
   "pygments_lexer": "ipython3",
   "version": "3.7.6"
  }
 },
 "nbformat": 4,
 "nbformat_minor": 4
}
